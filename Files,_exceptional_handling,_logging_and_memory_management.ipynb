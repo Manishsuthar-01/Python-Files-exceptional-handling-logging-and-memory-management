{
  "nbformat": 4,
  "nbformat_minor": 0,
  "metadata": {
    "colab": {
      "provenance": [],
      "toc_visible": true,
      "authorship_tag": "ABX9TyMZsTYBz35ryzC4gh1fFL54",
      "include_colab_link": true
    },
    "kernelspec": {
      "name": "python3",
      "display_name": "Python 3"
    },
    "language_info": {
      "name": "python"
    }
  },
  "cells": [
    {
      "cell_type": "markdown",
      "metadata": {
        "id": "view-in-github",
        "colab_type": "text"
      },
      "source": [
        "<a href=\"https://colab.research.google.com/github/Manishsuthar-01/Python-Files-exceptional-handling-logging-and-memory-management/blob/main/Files%2C_exceptional_handling%2C_logging_and_memory_management.ipynb\" target=\"_parent\"><img src=\"https://colab.research.google.com/assets/colab-badge.svg\" alt=\"Open In Colab\"/></a>"
      ]
    },
    {
      "cell_type": "markdown",
      "source": [
        "#**Files, exceptional handling, logging and memory management**\n",
        "#**Questions**"
      ],
      "metadata": {
        "id": "hBQb0h_dsLZW"
      }
    },
    {
      "cell_type": "markdown",
      "source": [
        "**1. What is the difference between interpreted and compiled languages?**\n",
        "\n",
        ">**Compiled Languages**\n",
        "\n",
        ">>**Definition:** A compiled language is one where the code is translated into machine code (binary) all at once by a compiler before it runs.\n",
        "\n",
        ">>**Process:**\n",
        "\n",
        ">>You write code (e.g., in C or C++).\n",
        "\n",
        ">>A compiler converts it into an executable file (.exe, .out).\n",
        "\n",
        ">>You run the executable directly.\n",
        "\n",
        ">>**Examples:** C, C++, Rust, Go\n",
        "\n",
        ">>**Pros:**\n",
        "\n",
        ">>Fast execution (already in machine code).\n",
        "\n",
        ">>Can be optimized by the compiler.\n",
        "\n",
        ">>Usually secure (users only see the binary, not source code).\n",
        "\n",
        ">>**Cons:**\n",
        "\n",
        ">>Must recompile after changes.\n",
        "\n",
        ">>Errors are only caught after compilation.\n",
        "\n",
        ">**Interpreted Languages**\n",
        "\n",
        ">>**Definition**: An interpreted language is one where the code is executed line-by-line by an interpreter at runtime.\n",
        "\n",
        ">>**Process:**\n",
        "\n",
        ">>You write code (e.g., in Python).\n",
        "\n",
        ">>The interpreter reads and executes the code directly.\n",
        "\n",
        ">>**Examples:** Python, JavaScript, Ruby, PHP\n",
        "\n",
        ">>**Pros:**\n",
        "\n",
        ">>Easier to debug and test (quick feedback).\n",
        "\n",
        ">>No compilation step—just run the code.\n",
        "\n",
        ">>More flexible (e.g., dynamic typing, interactive use).\n",
        "\n",
        ">>**Cons:**\n",
        "\n",
        ">>Slower execution (runs line-by-line).\n",
        "\n",
        ">>May expose source code to users.\n",
        "\n",
        "\n",
        "\n"
      ],
      "metadata": {
        "id": "7vOpSwdKsjLV"
      }
    },
    {
      "cell_type": "markdown",
      "source": [
        "**2. What is exception handling in Python?**\n",
        ">Exception handling in Python is the process of responding to errors (exceptions) that occur during the execution of a program—without crashing the program.\n",
        "\n",
        ">An exception is an error that interrupts the normal flow of a program.\n",
        "\n",
        ">**Examples:**\n",
        "\n",
        ">>ZeroDivisionError – when you divide by zero\n",
        "\n",
        ">>FileNotFoundError – when trying to open a file that doesn't exist\n",
        "\n",
        ">>ValueError – when a function gets an argument of the right type but an inappropriate value\n",
        "\n",
        ">Without exception handling, your program will crash when an error occurs.\n",
        "\n",
        ">With exception handling, you can catch the error, handle it gracefully, and continue running or show a helpful message.\n",
        "\n"
      ],
      "metadata": {
        "id": "VcEb7WdluFRK"
      }
    },
    {
      "cell_type": "code",
      "source": [
        "#Basic Syntax\n",
        "\n",
        "try:\n",
        "    x = 10 / 0\n",
        "except ZeroDivisionError:\n",
        "\n",
        "    print(\"You can't divide by zero!\")\n",
        "\n"
      ],
      "metadata": {
        "colab": {
          "base_uri": "https://localhost:8080/"
        },
        "id": "qWhrZbIkucGr",
        "outputId": "14fefe31-b072-4e20-abe9-8de263eb4fd3"
      },
      "execution_count": null,
      "outputs": [
        {
          "output_type": "stream",
          "name": "stdout",
          "text": [
            "You can't divide by zero!\n"
          ]
        }
      ]
    },
    {
      "cell_type": "code",
      "source": [
        "#Example with try-except-else-finally\n",
        "\n",
        "try:\n",
        "    num = int(input(\"Enter a number: \"))\n",
        "    result = 10 / num\n",
        "except ZeroDivisionError:\n",
        "    print(\"Error: Cannot divide by zero.\")\n",
        "except ValueError:\n",
        "    print(\"Error: Please enter a valid number.\")\n",
        "else:\n",
        "    print(\"Result is:\", result)\n",
        "finally:\n",
        "    print(\"This block always runs.\")\n"
      ],
      "metadata": {
        "colab": {
          "base_uri": "https://localhost:8080/"
        },
        "id": "mTge3IpxulJr",
        "outputId": "62ffd392-d7a2-4663-efd5-166e2ae5f0ad"
      },
      "execution_count": null,
      "outputs": [
        {
          "output_type": "stream",
          "name": "stdout",
          "text": [
            "Enter a number: 1\n",
            "Result is: 10.0\n",
            "This block always runs.\n"
          ]
        }
      ]
    },
    {
      "cell_type": "markdown",
      "source": [
        "**3. What is the purpose of the finally block in exception handling?**\n",
        ">The finally block is used to define clean-up code that must run no matter what, whether an exception occurred or not.\n",
        "\n",
        ">**Key Purposes of finally**\n",
        "\n",
        ">**Guarantees execution:** Code inside finally will always run, even if:\n",
        "\n",
        ">>An exception is raised\n",
        "\n",
        ">>No exception is raised\n",
        "\n",
        ">>A return, break, or continue is hit\n",
        "\n",
        ">>The program is exiting (unless killed forcefully)\n",
        "\n",
        ">**Common uses:**\n",
        "\n",
        ">>Closing files\n",
        "\n",
        ">>Releasing resources (e.g., database connections)\n",
        "\n",
        ">>Cleaning up temporary data\n",
        "\n",
        ">>Logging final states\n",
        "\n",
        ">If the file is found: it prints the content, then always runs the finally block to close the file.\n",
        "\n",
        ">If there's an error: it prints the error message, but still runs finally to clean up."
      ],
      "metadata": {
        "id": "qhNlhsx9utZ9"
      }
    },
    {
      "cell_type": "code",
      "source": [
        "#Example\n",
        "\n",
        "try:\n",
        "    f = open(\"data.txt\", \"r\")\n",
        "    content = f.read()\n",
        "    print(content)\n",
        "except FileNotFoundError:\n",
        "    print(\"File not found.\")\n",
        "finally:\n",
        "    print(\"Closing file.\")\n",
        "    if 'f' in locals():\n",
        "        f.close()\n"
      ],
      "metadata": {
        "colab": {
          "base_uri": "https://localhost:8080/"
        },
        "id": "yaZlOmRtvKaJ",
        "outputId": "df95fe9a-9393-464f-c519-da803c57135d"
      },
      "execution_count": null,
      "outputs": [
        {
          "output_type": "stream",
          "name": "stdout",
          "text": [
            "File not found.\n",
            "Closing file.\n"
          ]
        }
      ]
    },
    {
      "cell_type": "markdown",
      "source": [
        "**4. What is logging in Python?**\n",
        ">Logging in Python means recording messages about what your program is doing—like status updates, warnings, errors, or debugging info—to the console or a file.\n",
        "\n",
        ">It helps track the behavior of your program and diagnose problems without stopping or crashing the app.\n",
        "\n",
        ">The print() function is mainly used for simple output or quick debugging, while logging is intended for professional and long-term tracking of program behavior.\n",
        "\n",
        ">Unlike print(), which cannot distinguish between different types of messages, logging allows messages to be filtered by severity level, such as info, warning, error, or critical.\n",
        "\n",
        ">print() offers no built-in support for formatting, timestamps, or message control, whereas logging provides rich formatting options, including timestamps, log levels, and the source of the message.\n",
        "\n",
        ">Since print() is basic and not configurable, it's not suitable for production environments, while logging is widely used in production applications and frameworks to manage and record program activity."
      ],
      "metadata": {
        "id": "ntmgO-kmvOo4"
      }
    },
    {
      "cell_type": "code",
      "source": [
        "# Example\n",
        "\n",
        "import logging\n",
        "\n",
        "logging.basicConfig(level=logging.INFO)\n",
        "\n",
        "logging.debug(\"This is a debug message.\")\n",
        "logging.info(\"Starting the program.\")\n",
        "logging.warning(\"This is a warning.\")\n",
        "logging.error(\"An error occurred.\")\n",
        "logging.critical(\"Critical issue!\")\n",
        "\n",
        "\n"
      ],
      "metadata": {
        "colab": {
          "base_uri": "https://localhost:8080/"
        },
        "id": "Oahu0hQvvvf7",
        "outputId": "19918b0d-00fd-45fb-d5a9-6a838afaad12"
      },
      "execution_count": null,
      "outputs": [
        {
          "output_type": "stream",
          "name": "stderr",
          "text": [
            "WARNING:root:This is a warning.\n",
            "ERROR:root:An error occurred.\n",
            "CRITICAL:root:Critical issue!\n"
          ]
        }
      ]
    },
    {
      "cell_type": "markdown",
      "source": [
        "**5. What is the significance of the __del__ method in Python?**\n",
        ">The __del__ method in Python is a special method called a destructor. It's used to clean up resources when an object is about to be destroyed (i.e., when it's being garbage collected).\n",
        "\n",
        ">**Purpose of __del__**\n",
        "\n",
        ">__del__ is automatically called when an object is no longer in use and is being deleted from memory.\n",
        "\n",
        ">It's typically used to:\n",
        "\n",
        ">Close files\n",
        "\n",
        ">Release network or database connections\n",
        "\n",
        ">Free up system resources\n",
        "\n"
      ],
      "metadata": {
        "id": "uPZIBu02v6eH"
      }
    },
    {
      "cell_type": "code",
      "source": [
        "#Example\n",
        "\n",
        "class FileHandler:\n",
        "    def __init__(self, filename):\n",
        "        self.file = open(filename, 'w')\n",
        "        print(\"File opened.\")\n",
        "\n",
        "    def __del__(self):\n",
        "        self.file.close()\n",
        "        print(\"File closed.\")\n",
        "\n",
        "handler = FileHandler(\"sample.txt\")\n",
        "del handler"
      ],
      "metadata": {
        "colab": {
          "base_uri": "https://localhost:8080/"
        },
        "id": "-_lxGoBYxMVa",
        "outputId": "99304cfd-50a5-4fae-8066-cf7099c0e084"
      },
      "execution_count": null,
      "outputs": [
        {
          "output_type": "stream",
          "name": "stdout",
          "text": [
            "File opened.\n",
            "File closed.\n"
          ]
        }
      ]
    },
    {
      "cell_type": "markdown",
      "source": [
        "**6. What is the difference between import and from ... import in Python?**\n",
        ">Both are used to include external code (modules) in your Python program, but they differ in what they bring into your namespace.\n",
        "\n",
        ">**import Statement**\n",
        "\n",
        ">Imports the whole module\n",
        "\n",
        ">You must prefix functions, classes, or variables with the module name (e.g., math.sqrt)\n",
        "\n",
        ">Reduces the chance of name conflicts\n",
        "\n",
        ">More readable for large codebases\n",
        "\n"
      ],
      "metadata": {
        "id": "eO_3ESYexP1l"
      }
    },
    {
      "cell_type": "code",
      "source": [
        "#example\n",
        "import math\n",
        "\n",
        "print(math.sqrt(16))"
      ],
      "metadata": {
        "colab": {
          "base_uri": "https://localhost:8080/"
        },
        "id": "JtghuMTsx-lL",
        "outputId": "42d15676-f58c-48ef-dd38-6a445242086b"
      },
      "execution_count": null,
      "outputs": [
        {
          "output_type": "stream",
          "name": "stdout",
          "text": [
            "4.0\n"
          ]
        }
      ]
    },
    {
      "cell_type": "markdown",
      "source": [
        ">**from ... import Statement**\n",
        "\n",
        "\n",
        ">Imports specific names (functions, classes, etc.) from the module\n",
        "\n",
        ">No need to prefix with the module name\n",
        "\n",
        ">Less typing, but can cause name conflicts\n",
        "\n",
        ">Makes it harder to tell where a function came from"
      ],
      "metadata": {
        "id": "8NusQPx5xwB1"
      }
    },
    {
      "cell_type": "code",
      "source": [
        "#Example\n",
        "from math import sqrt\n",
        "\n",
        "print(sqrt(16))\n"
      ],
      "metadata": {
        "colab": {
          "base_uri": "https://localhost:8080/"
        },
        "id": "_IIVjvtayEBi",
        "outputId": "4c92575f-3254-4f63-cd80-edb8eb3a6cea"
      },
      "execution_count": null,
      "outputs": [
        {
          "output_type": "stream",
          "name": "stdout",
          "text": [
            "4.0\n"
          ]
        }
      ]
    },
    {
      "cell_type": "markdown",
      "source": [
        "**7. How can you handle multiple exceptions in Python?**\n",
        ">Python lets you handle multiple exceptions in a clean and flexible way using multiple except blocks or by combining exceptions in one block.\n",
        "\n",
        ">**Multiple except Blocks**\n",
        "\n",
        ">Handle different exceptions separately:\n",
        "\n",
        ">Each except block handles one specific type of exception.\n",
        "\n"
      ],
      "metadata": {
        "id": "iUz9xv4pyQML"
      }
    },
    {
      "cell_type": "code",
      "source": [
        "try:\n",
        "    x = int(input(\"Enter a number: \"))\n",
        "    y = 10 / x\n",
        "except ValueError:\n",
        "    print(\"Invalid input. Please enter a number.\")\n",
        "except ZeroDivisionError:\n",
        "    print(\"Cannot divide by zero.\")\n"
      ],
      "metadata": {
        "colab": {
          "base_uri": "https://localhost:8080/"
        },
        "id": "ekF1L7mIyUUZ",
        "outputId": "762c8631-9804-4375-bee6-eed9241ce609"
      },
      "execution_count": null,
      "outputs": [
        {
          "output_type": "stream",
          "name": "stdout",
          "text": [
            "Enter a number: 0\n",
            "Cannot divide by zero.\n"
          ]
        }
      ]
    },
    {
      "cell_type": "markdown",
      "source": [
        ">**Single except Block for Multiple Exceptions**\n",
        "\n",
        ">Handle several exception types with the same block:\n",
        "\n",
        ">You use a tuple of exception types in parentheses."
      ],
      "metadata": {
        "id": "Qe4iFkRyytFL"
      }
    },
    {
      "cell_type": "code",
      "source": [
        "try:\n",
        "    x = int(input(\"Enter a number: \"))\n",
        "    y = 10 / x\n",
        "except (ValueError, ZeroDivisionError):\n",
        "    print(\"Invalid input or division by zero.\")\n"
      ],
      "metadata": {
        "colab": {
          "base_uri": "https://localhost:8080/"
        },
        "id": "TKKYs8tjyx5S",
        "outputId": "4591b3a1-449a-4bec-8ab7-000faec15b1f"
      },
      "execution_count": null,
      "outputs": [
        {
          "output_type": "stream",
          "name": "stdout",
          "text": [
            "Enter a number: 0\n",
            "Invalid input or division by zero.\n"
          ]
        }
      ]
    },
    {
      "cell_type": "markdown",
      "source": [
        ">**Catching All Exceptions (Not Recommended Unless Necessary)**\n",
        "\n",
        ">This catches any exception, should be used carefully, as it can hide bugs if overused.\n",
        "\n"
      ],
      "metadata": {
        "id": "0rtRplu-ywea"
      }
    },
    {
      "cell_type": "code",
      "source": [
        "try:\n",
        "\n",
        "    pass\n",
        "except Exception as e:\n",
        "    print(\"An error occurred:\", e)\n"
      ],
      "metadata": {
        "id": "snDUdxf4zEeA"
      },
      "execution_count": null,
      "outputs": []
    },
    {
      "cell_type": "markdown",
      "source": [],
      "metadata": {
        "id": "COvSrYruzUMh"
      }
    },
    {
      "cell_type": "markdown",
      "source": [
        "**8. What is the purpose of the with statement when handling files in Python?**\n",
        ">The with statement is used to open and work with files (or other resources) safely and cleanly by automatically managing resource cleanup, such as closing the file when you're done.\n",
        "\n",
        ">**Key Purposes of the with Statement for Files**\n",
        "\n",
        ">**Automatic File Closing**\n",
        "\n",
        ">>When the block inside the with statement finishes—whether normally or due to an error—Python automatically closes the file for you. No need to call file.close() explicitly.\n",
        "\n",
        ">**Cleaner and More Readable Code**\n",
        "\n",
        ">>It reduces boilerplate code and avoids mistakes like forgetting to close files.\n",
        "\n",
        ">**Handles Exceptions Gracefully**\n",
        "\n",
        ">>Even if an exception occurs while working with the file, the with statement ensures the file is properly closed."
      ],
      "metadata": {
        "id": "RaEWTmw9zY65"
      }
    },
    {
      "cell_type": "code",
      "source": [
        "#Example without with\n",
        "\n",
        "file = open(\"example.txt\", \"r\")\n",
        "content = file.read()\n",
        "print(content)\n",
        "file.close()\n",
        "#just for example"
      ],
      "metadata": {
        "colab": {
          "base_uri": "https://localhost:8080/",
          "height": 211
        },
        "id": "XORixYSzz-Gu",
        "outputId": "0bb1b0cf-78a0-4ab7-8656-0d48e7aca1f2"
      },
      "execution_count": null,
      "outputs": [
        {
          "output_type": "error",
          "ename": "FileNotFoundError",
          "evalue": "[Errno 2] No such file or directory: 'example.txt'",
          "traceback": [
            "\u001b[0;31m---------------------------------------------------------------------------\u001b[0m",
            "\u001b[0;31mFileNotFoundError\u001b[0m                         Traceback (most recent call last)",
            "\u001b[0;32m/tmp/ipython-input-14-3550374842.py\u001b[0m in \u001b[0;36m<cell line: 0>\u001b[0;34m()\u001b[0m\n\u001b[1;32m      1\u001b[0m \u001b[0;31m#Example\u001b[0m\u001b[0;34m\u001b[0m\u001b[0;34m\u001b[0m\u001b[0m\n\u001b[1;32m      2\u001b[0m \u001b[0;34m\u001b[0m\u001b[0m\n\u001b[0;32m----> 3\u001b[0;31m \u001b[0mfile\u001b[0m \u001b[0;34m=\u001b[0m \u001b[0mopen\u001b[0m\u001b[0;34m(\u001b[0m\u001b[0;34m\"example.txt\"\u001b[0m\u001b[0;34m,\u001b[0m \u001b[0;34m\"r\"\u001b[0m\u001b[0;34m)\u001b[0m\u001b[0;34m\u001b[0m\u001b[0;34m\u001b[0m\u001b[0m\n\u001b[0m\u001b[1;32m      4\u001b[0m \u001b[0mcontent\u001b[0m \u001b[0;34m=\u001b[0m \u001b[0mfile\u001b[0m\u001b[0;34m.\u001b[0m\u001b[0mread\u001b[0m\u001b[0;34m(\u001b[0m\u001b[0;34m)\u001b[0m\u001b[0;34m\u001b[0m\u001b[0;34m\u001b[0m\u001b[0m\n\u001b[1;32m      5\u001b[0m \u001b[0mprint\u001b[0m\u001b[0;34m(\u001b[0m\u001b[0mcontent\u001b[0m\u001b[0;34m)\u001b[0m\u001b[0;34m\u001b[0m\u001b[0;34m\u001b[0m\u001b[0m\n",
            "\u001b[0;31mFileNotFoundError\u001b[0m: [Errno 2] No such file or directory: 'example.txt'"
          ]
        }
      ]
    },
    {
      "cell_type": "code",
      "source": [
        "#Example With with\n",
        "\n",
        "with open(\"example.txt\", \"r\") as file:\n",
        "    content = file.read()\n",
        "    print(content)\n",
        "# File is automatically closed here, even if an error occurs\n",
        "#just for example"
      ],
      "metadata": {
        "colab": {
          "base_uri": "https://localhost:8080/",
          "height": 211
        },
        "id": "30-1OqHPz9TI",
        "outputId": "34a22e2b-88cf-4dfc-da5a-50756068643c"
      },
      "execution_count": null,
      "outputs": [
        {
          "output_type": "error",
          "ename": "FileNotFoundError",
          "evalue": "[Errno 2] No such file or directory: 'example.txt'",
          "traceback": [
            "\u001b[0;31m---------------------------------------------------------------------------\u001b[0m",
            "\u001b[0;31mFileNotFoundError\u001b[0m                         Traceback (most recent call last)",
            "\u001b[0;32m/tmp/ipython-input-15-3594129485.py\u001b[0m in \u001b[0;36m<cell line: 0>\u001b[0;34m()\u001b[0m\n\u001b[1;32m      1\u001b[0m \u001b[0;31m#Example With with\u001b[0m\u001b[0;34m\u001b[0m\u001b[0;34m\u001b[0m\u001b[0m\n\u001b[1;32m      2\u001b[0m \u001b[0;34m\u001b[0m\u001b[0m\n\u001b[0;32m----> 3\u001b[0;31m \u001b[0;32mwith\u001b[0m \u001b[0mopen\u001b[0m\u001b[0;34m(\u001b[0m\u001b[0;34m\"example.txt\"\u001b[0m\u001b[0;34m,\u001b[0m \u001b[0;34m\"r\"\u001b[0m\u001b[0;34m)\u001b[0m \u001b[0;32mas\u001b[0m \u001b[0mfile\u001b[0m\u001b[0;34m:\u001b[0m\u001b[0;34m\u001b[0m\u001b[0;34m\u001b[0m\u001b[0m\n\u001b[0m\u001b[1;32m      4\u001b[0m     \u001b[0mcontent\u001b[0m \u001b[0;34m=\u001b[0m \u001b[0mfile\u001b[0m\u001b[0;34m.\u001b[0m\u001b[0mread\u001b[0m\u001b[0;34m(\u001b[0m\u001b[0;34m)\u001b[0m\u001b[0;34m\u001b[0m\u001b[0;34m\u001b[0m\u001b[0m\n\u001b[1;32m      5\u001b[0m     \u001b[0mprint\u001b[0m\u001b[0;34m(\u001b[0m\u001b[0mcontent\u001b[0m\u001b[0;34m)\u001b[0m\u001b[0;34m\u001b[0m\u001b[0;34m\u001b[0m\u001b[0m\n",
            "\u001b[0;31mFileNotFoundError\u001b[0m: [Errno 2] No such file or directory: 'example.txt'"
          ]
        }
      ]
    },
    {
      "cell_type": "markdown",
      "source": [
        "**9. What is the difference between multithreading and multiprocessing?**\n",
        ">**Multithreading**\n",
        "\n",
        ">>**Definition:** Running multiple threads (smaller units of a process) within the same process to perform tasks concurrently.\n",
        "\n",
        ">>**Memory:** Threads share the same memory space (same process memory).\n",
        "\n",
        ">>**Use Case:** Best for I/O-bound tasks (waiting on files, network, user input).\n",
        "\n",
        ">>**Python Note**: Due to the Global Interpreter Lock (GIL), Python threads cannot run Python bytecode in true parallel for CPU-bound tasks.\n",
        "\n",
        ">>**Overhead:** Lower overhead, faster to start threads.\n",
        "\n",
        ">>**Communication:** Easier, since threads share the same memory.\n",
        "\n",
        ">**Multiprocessing**\n",
        "\n",
        ">>**Definition**: Running multiple processes, each with its own Python interpreter and memory space, to execute tasks in parallel.\n",
        "\n",
        ">>**Memory:** Processes have separate memory spaces (no sharing by default).\n",
        "\n",
        ">>**Use Case:** Best for CPU-bound tasks (heavy computations).\n",
        "\n",
        ">>**Python Note:** Avoids GIL limitations by running truly in parallel.\n",
        "\n",
        ">>**Overhead:** Higher overhead, slower to start processes.\n",
        "\n",
        ">>**Communication:** More complex, usually requires inter-process communication (IPC) like pipes or queues.\n",
        "\n"
      ],
      "metadata": {
        "id": "FK0Tu-NP0Y-w"
      }
    },
    {
      "cell_type": "markdown",
      "source": [
        "**10.  What are the advantages of using logging in a program?**\n",
        ">**Advantages of Using Logging**\n",
        "\n",
        ">**Better Debugging and Troubleshooting**\n",
        "\n",
        ">Logs provide detailed information about program execution, helping developers identify where and why errors occur.\n",
        "\n",
        ">**Persistent Record of Events**\n",
        "\n",
        ">Unlike print statements, logs can be saved to files, creating a history of events for future analysis.\n",
        "\n",
        ">**Different Levels of Importance**\n",
        "\n",
        ">Logging supports levels like DEBUG, INFO, WARNING, ERROR, and CRITICAL, allowing you to filter messages by importance.\n",
        "\n",
        ">**Non-Intrusive Monitoring**\n",
        "\n",
        ">Logs can run silently in the background without affecting program output or user experience.\n",
        "\n",
        ">**Easier Maintenance**\n",
        "\n",
        ">Logs help maintain and improve software by providing insight into runtime behavior over time.\n",
        "\n",
        ">**Supports Production Use**\n",
        "\n",
        ">Logging is suitable for live applications, enabling monitoring without exposing internal state to users.\n",
        "\n",
        ">**Flexible Output Destinations**\n",
        "\n",
        ">Logs can be directed to various destinations: console, files, remote servers, or log management systems.\n",
        "\n",
        ">**Configurable Format and Content**\n",
        "\n",
        ">You can include timestamps, module names, line numbers, and more to make logs informative."
      ],
      "metadata": {
        "id": "RKdkdnD71BUP"
      }
    },
    {
      "cell_type": "markdown",
      "source": [
        "**11. What is memory management in Python?**\n",
        ">Memory management in Python refers to the process by which Python handles the allocation, usage, and deallocation of memory for objects and data structures during a program's execution. Python abstracts much of the complexity of memory management, making it easier for developers to focus on writing code rather than worrying about memory allocation and cleanup.\n",
        "\n",
        ">**Automatic Memory Management**\n",
        "\n",
        ">>Python uses automatic memory management, which means the interpreter handles most memory operations for you. This includes:\n",
        "\n",
        ">>**Allocation**: Memory is automatically allocated when you create a new object.\n",
        "\n",
        ">>**Deallocation**: Memory is freed when an object is no longer needed.\n",
        "\n",
        ">**Reference Counting**\n",
        "\n",
        ">>Python uses reference counting as the primary mechanism for memory management.\n",
        "\n",
        ">>Every object in Python has a reference count — the number of references pointing to it.\n",
        "\n",
        ">>When the reference count drops to zero (i.e., no references to the object), the memory is automatically deallocated.\n",
        "\n",
        "\n",
        ">**Garbage Collection (GC**)\n",
        "\n",
        ">>Python has a garbage collector to deal with circular references — cases where objects refer to each other, forming a cycle that reference counting alone can't clean up.\n",
        "\n",
        ">>The gc module provides functions to interact with the garbage collector.\n",
        "\n",
        ">>Python's garbage collector periodically scans for objects involved in reference cycles and reclaims their memory.\n",
        "\n",
        ">**Private Heap Space**\n",
        "\n",
        ">>All Python objects and data structures are stored in a private heap — an area of memory managed by the Python memory manager.\n",
        "\n",
        ">>This heap is not directly accessible to the programmer; it's controlled internally.\n",
        "\n",
        ">**Memory Pools and the PyMalloc Allocato**r\n",
        "\n",
        ">>Python uses a specialized memory allocator called PyMalloc for small objects to improve performance.\n",
        "\n",
        ">>Objects are allocated from memory pools, which reduces fragmentation and overhead.\n",
        "\n",
        ">**Memory Management Tools**\n",
        "\n",
        ">>You can monitor and influence memory management using:\n",
        "\n",
        ">>sys.getsizeof() – get the size of an object in bytes.\n",
        "\n",
        ">>gc module – for manual garbage collection or checking unreachable objects.\n",
        "\n",
        ">>tracemalloc – track memory allocations and find memory leaks."
      ],
      "metadata": {
        "id": "rHojKEU22Bdv"
      }
    },
    {
      "cell_type": "markdown",
      "source": [
        "**12. What are the basic steps involved in exception handling in Python?**\n",
        ">**Try Block (try)**\n",
        "\n",
        ">Write code that might raise an exception inside a try block.\n",
        "\n",
        "\n",
        "\n",
        ">If an error occurs here (like division by zero), Python will immediately jump to the except block.\n",
        "\n",
        "\n",
        "\n",
        "\n"
      ],
      "metadata": {
        "id": "NUHpyIq728HF"
      }
    },
    {
      "cell_type": "code",
      "source": [
        "try:\n",
        "    result = 10 / 0"
      ],
      "metadata": {
        "colab": {
          "base_uri": "https://localhost:8080/",
          "height": 106
        },
        "id": "9FLJBpua3ew7",
        "outputId": "b68cfffe-a11f-4353-dc21-57e4c2da9ac8"
      },
      "execution_count": null,
      "outputs": [
        {
          "output_type": "error",
          "ename": "SyntaxError",
          "evalue": "incomplete input (ipython-input-1-417436707.py, line 2)",
          "traceback": [
            "\u001b[0;36m  File \u001b[0;32m\"/tmp/ipython-input-1-417436707.py\"\u001b[0;36m, line \u001b[0;32m2\u001b[0m\n\u001b[0;31m    result = 10 / 0\u001b[0m\n\u001b[0m                   ^\u001b[0m\n\u001b[0;31mSyntaxError\u001b[0m\u001b[0;31m:\u001b[0m incomplete input\n"
          ]
        }
      ]
    },
    {
      "cell_type": "markdown",
      "source": [
        ">**Except Block (except)**\n",
        "\n",
        ">Handle the exception using an except block.\n",
        "\n",
        "\n",
        "\n",
        ">You can handle specific exceptions or use a general one:\n",
        "\n"
      ],
      "metadata": {
        "id": "sDMkA6WJ3kVc"
      }
    },
    {
      "cell_type": "code",
      "source": [
        "try:\n",
        "    result = 10 / 0\n",
        "except ZeroDivisionError:\n",
        "    print(\"You can't divide by zero!\")\n",
        "\n",
        "except Exception:\n",
        "    print(\"Some error occurred.\")"
      ],
      "metadata": {
        "colab": {
          "base_uri": "https://localhost:8080/"
        },
        "id": "yS_hwQKC3tND",
        "outputId": "c5a998d5-08c0-40d6-eeb9-c9d2bee42273"
      },
      "execution_count": null,
      "outputs": [
        {
          "output_type": "stream",
          "name": "stdout",
          "text": [
            "You can't divide by zero!\n"
          ]
        }
      ]
    },
    {
      "cell_type": "markdown",
      "source": [
        ">**Else Block (else)**\n",
        "\n",
        ">Run code only if no exception occurred in the try block.\n",
        "\n",
        "\n"
      ],
      "metadata": {
        "id": "GsdZoTNQ4MQL"
      }
    },
    {
      "cell_type": "code",
      "source": [
        "try:\n",
        "    result = 10 / 2\n",
        "except ZeroDivisionError:\n",
        "    print(\"Division error\")\n",
        "else:\n",
        "    print(\"No errors! The result is\", result)\n"
      ],
      "metadata": {
        "colab": {
          "base_uri": "https://localhost:8080/"
        },
        "id": "xlNHOWkb4g8K",
        "outputId": "2d26582a-660a-4863-d6cb-9f9dd37f6f9a"
      },
      "execution_count": null,
      "outputs": [
        {
          "output_type": "stream",
          "name": "stdout",
          "text": [
            "No errors! The result is 5.0\n"
          ]
        }
      ]
    },
    {
      "cell_type": "markdown",
      "source": [
        ">**Finally Block (finally)**\n",
        "\n",
        ">This block is always executed, whether an exception occurred or not. It's useful for cleanup actions like closing files or releasing resources.\n",
        "\n",
        "\n",
        "   "
      ],
      "metadata": {
        "id": "n7DBXMnC4RX7"
      }
    },
    {
      "cell_type": "code",
      "source": [
        "try:\n",
        "    f = open(\"file.txt\", \"r\")\n",
        "    content = f.read()\n",
        "except FileNotFoundError:\n",
        "    print(\"File not found.\")\n",
        "finally:\n",
        "    f.close()\n",
        "    print(\"File closed.\")\n",
        "\n"
      ],
      "metadata": {
        "colab": {
          "base_uri": "https://localhost:8080/",
          "height": 228
        },
        "id": "hMrK_rmI4YPs",
        "outputId": "2efc42dd-754f-46a4-9ae9-92d250946392"
      },
      "execution_count": null,
      "outputs": [
        {
          "output_type": "stream",
          "name": "stdout",
          "text": [
            "File not found.\n"
          ]
        },
        {
          "output_type": "error",
          "ename": "NameError",
          "evalue": "name 'f' is not defined",
          "traceback": [
            "\u001b[0;31m---------------------------------------------------------------------------\u001b[0m",
            "\u001b[0;31mNameError\u001b[0m                                 Traceback (most recent call last)",
            "\u001b[0;32m/tmp/ipython-input-6-2144833216.py\u001b[0m in \u001b[0;36m<cell line: 0>\u001b[0;34m()\u001b[0m\n\u001b[1;32m      5\u001b[0m     \u001b[0mprint\u001b[0m\u001b[0;34m(\u001b[0m\u001b[0;34m\"File not found.\"\u001b[0m\u001b[0;34m)\u001b[0m\u001b[0;34m\u001b[0m\u001b[0;34m\u001b[0m\u001b[0m\n\u001b[1;32m      6\u001b[0m \u001b[0;32mfinally\u001b[0m\u001b[0;34m:\u001b[0m\u001b[0;34m\u001b[0m\u001b[0;34m\u001b[0m\u001b[0m\n\u001b[0;32m----> 7\u001b[0;31m     \u001b[0mf\u001b[0m\u001b[0;34m.\u001b[0m\u001b[0mclose\u001b[0m\u001b[0;34m(\u001b[0m\u001b[0;34m)\u001b[0m\u001b[0;34m\u001b[0m\u001b[0;34m\u001b[0m\u001b[0m\n\u001b[0m\u001b[1;32m      8\u001b[0m     \u001b[0mprint\u001b[0m\u001b[0;34m(\u001b[0m\u001b[0;34m\"File closed.\"\u001b[0m\u001b[0;34m)\u001b[0m\u001b[0;34m\u001b[0m\u001b[0;34m\u001b[0m\u001b[0m\n\u001b[1;32m      9\u001b[0m \u001b[0;34m\u001b[0m\u001b[0m\n",
            "\u001b[0;31mNameError\u001b[0m: name 'f' is not defined"
          ]
        }
      ]
    },
    {
      "cell_type": "markdown",
      "source": [
        "**13. Why is memory management important in Python?**\n",
        ">**Prevents Memory Leaks**\n",
        "\n",
        ">>Poor memory handling can leave unused objects in memory (known as memory leaks).\n",
        "\n",
        ">>Over time, this consumes more RAM and may cause the program to slow down or crash.\n",
        "\n",
        ">**Ensures Efficient Use of Resources**\n",
        "\n",
        ">>Memory is a limited resource. Efficient memory use allows Python applications to run faster and scale better, especially in data-heavy areas like:\n",
        "\n",
        ">>Data science\n",
        "\n",
        ">>Web servers\n",
        "\n",
        ">>Machine learning\n",
        "\n",
        ">>Games and simulations\n",
        "\n",
        ">**Improves Performance**\n",
        "\n",
        ">>Proper memory management reduces CPU overhead for tracking unused objects.\n",
        "\n",
        ">>Reduces garbage collection time by preventing unnecessary object retention.\n",
        "\n",
        ">**Supports Multitasking and Large Applications**\n",
        "\n",
        ">>In complex applications or long-running programs (e.g., web apps, background services), memory issues can accumulate over time.\n",
        "\n",
        ">>Good memory handling ensures the app remains responsive and stable.\n",
        "\n",
        ">**Simplifies Debugging**\n",
        "\n",
        ">>Understanding memory behavior helps you detect:\n",
        "\n",
        ">>Unused references\n",
        "\n",
        ">>Circular dependencies\n",
        "\n",
        ">>Over-allocation of memory"
      ],
      "metadata": {
        "id": "mL5M1V3R4nCq"
      }
    },
    {
      "cell_type": "markdown",
      "source": [
        "**14. What is the role of try and except in exception handling?**\n",
        "> try Block — Watch for Errors\n",
        "\n",
        ">The try block contains code that might raise an exception.\n",
        "\n",
        ">Python executes the code inside try, and if everything runs fine, it skips the except block.\n",
        "\n",
        ">If an error occurs, Python stops execution at the error and immediately jumps to the matching except.\n",
        "\n",
        "\n",
        ">except Block — Catch and Handle Errors\n",
        "\n",
        ">The except block defines how to respond to a specific type of error.\n",
        "\n",
        ">It lets you handle exceptions without crashing the program.\n",
        "\n",
        ">You can catch:\n",
        "\n",
        ">>Specific exceptions (recommended)\n",
        "\n",
        ">>Multiple exceptions\n",
        "\n",
        ">>All exceptions (use with caution)"
      ],
      "metadata": {
        "id": "F24g5O8V5NNp"
      }
    },
    {
      "cell_type": "code",
      "source": [
        "#Example\n",
        "\n",
        "try:\n",
        "    number = int(input(\"Enter a number: \"))\n",
        "    result = 10 / number\n",
        "except ValueError:\n",
        "    print(\"That's not a valid number!\")\n",
        "except ZeroDivisionError:\n",
        "    print(\"Can't divide by zero.\")\n"
      ],
      "metadata": {
        "colab": {
          "base_uri": "https://localhost:8080/"
        },
        "id": "_MZ-JlhU5uJq",
        "outputId": "0d964bb6-1cbd-402b-d315-9e96e3d1cac1"
      },
      "execution_count": null,
      "outputs": [
        {
          "output_type": "stream",
          "name": "stdout",
          "text": [
            "Enter a number: 0\n",
            "Can't divide by zero.\n"
          ]
        }
      ]
    },
    {
      "cell_type": "markdown",
      "source": [
        "**15. How does Python's garbage collection system work?**\n",
        "\n",
        ">**Reference Counting (Primary Method)**\n",
        "\n",
        ">Every object in Python keeps track of how many references point to it.\n",
        "\n",
        ">>When you create a new object, it starts with a reference count of 1.\n",
        "\n",
        ">>Assigning it to another variable or passing it to a function increases the count.\n",
        "\n",
        ">>When a reference is deleted or goes out of scope, the count decreases.\n",
        "\n",
        ">If the reference count drops to 0, Python immediately deletes the object and reclaims the memory.\n",
        "\n",
        "\n"
      ],
      "metadata": {
        "id": "DwHJgcuI5yuo"
      }
    },
    {
      "cell_type": "code",
      "source": [
        "#Example:\n",
        "\n",
        "import sys\n",
        "\n",
        "a = [1, 2, 3]\n",
        "print(sys.getrefcount(a))  # Shows reference count\n",
        "\n",
        "b = a      # Reference count increases\n",
        "del a      # Reference count decreases\n",
        "del b      # Reference count is 0 → memory is freed"
      ],
      "metadata": {
        "colab": {
          "base_uri": "https://localhost:8080/"
        },
        "id": "k50r-aYn6Zwf",
        "outputId": "f84bfb9e-0940-460f-9095-935eeb5e8025"
      },
      "execution_count": null,
      "outputs": [
        {
          "output_type": "stream",
          "name": "stdout",
          "text": [
            "2\n"
          ]
        }
      ]
    },
    {
      "cell_type": "markdown",
      "source": [
        ">**Garbage Collector (for Circular References)**\n",
        "\n",
        ">Reference counting can’t handle circular references, where two or more objects reference each other, keeping their reference counts > 0 even if they're not used.\n",
        "\n",
        ">Python has a cyclic garbage collector to deal with this.\n",
        "\n",
        ">>It scans for groups of objects that reference each other but are not accessible from anywhere else in the program.\n",
        "\n",
        ">>These are marked as garbage and removed.\n",
        "\n",
        "\n",
        "\n",
        ">Python’s garbage collector will detect and clean this up eventually."
      ],
      "metadata": {
        "id": "xCv2htyY6sJ_"
      }
    },
    {
      "cell_type": "code",
      "source": [
        "#Example of a Circular Reference:\n",
        "\n",
        "class Node:\n",
        "    def __init__(self):\n",
        "        self.other = None\n",
        "\n",
        "a = Node()\n",
        "b = Node()\n",
        "a.other = b\n",
        "b.other = a  # Circular reference\n",
        "\n",
        "del a\n",
        "del b  # Reference counts are not 0, but objects are unreachable"
      ],
      "metadata": {
        "id": "AtSiRr946sjO"
      },
      "execution_count": null,
      "outputs": []
    },
    {
      "cell_type": "markdown",
      "source": [
        "**16. What is the purpose of the else block in exception handling?**\n",
        ">**Purpose of the else Block**\n",
        "\n",
        ">>It helps you separate code that might fail (inside try) from code that should only run if it succeeds.\n",
        "\n",
        ">>Makes your exception-handling logic cleaner and more readable.\n",
        "\n",
        ">**When Is else Executed?**\n",
        "\n",
        ">>If the try block completes without raising an exception, Python runs the else block.\n",
        "\n",
        ">>If an exception is raised, the else block is skipped and control passes to the except.\n",
        "\n",
        ">**Why Use It?**\n",
        "\n",
        ">>Keeps your try block focused on just the risky operations.\n",
        "\n",
        ">>Lets you place dependent but safe code in the else block.\n",
        "\n",
        ">>Helps in avoiding accidentally catching unrelated errors.\n",
        "\n"
      ],
      "metadata": {
        "id": "KilKyfhj6yq2"
      }
    },
    {
      "cell_type": "code",
      "source": [
        "#Example\n",
        "\n",
        "try:\n",
        "    num = int(input(\"Enter a number: \"))\n",
        "    result = 10 / num\n",
        "except ZeroDivisionError:\n",
        "    print(\"You can't divide by zero.\")\n",
        "except ValueError:\n",
        "    print(\"Please enter a valid number.\")\n",
        "else:\n",
        "    print(f\"Success! The result is {result}\")\n"
      ],
      "metadata": {
        "colab": {
          "base_uri": "https://localhost:8080/"
        },
        "id": "9g0QdvuA7MyI",
        "outputId": "244526e5-9619-4160-d866-a8ea8ff1e4b8"
      },
      "execution_count": null,
      "outputs": [
        {
          "output_type": "stream",
          "name": "stdout",
          "text": [
            "Enter a number: 1\n",
            "Success! The result is 10.0\n"
          ]
        }
      ]
    },
    {
      "cell_type": "markdown",
      "source": [
        "**17. What are the common logging levels in Python?**\n",
        ">**CRITICAL (50)**\n",
        "\n",
        ">>\"A CRITICAL error occurred: the database is corrupt and the application cannot continue running.\"\n",
        "\n",
        ">**ERROR (40)**\n",
        "\n",
        ">>\"An ERROR was logged when the system failed to save the user’s data due to a disk write failure.\"\n",
        "\n",
        ">**WARNING (30)**\n",
        "\n",
        ">>\"The application issued a WARNING when memory usage exceeded 80%, but it continued running.\"\n",
        "\n",
        ">**INFO (20)**\n",
        "\n",
        ">>\"An INFO message was recorded to indicate that the user successfully logged in.\"\n",
        "\n",
        ">**DEBUG (10)**\n",
        "\n",
        ">>\"A DEBUG message showed the exact query being sent to the database for troubleshooting.\"\n",
        "\n",
        ">**NOTSET (0)**\n",
        "\n",
        ">>\"The logger’s level was set to NOTSET, so it inherited the level from its parent logger.\""
      ],
      "metadata": {
        "id": "Fg5UT2HM7aFt"
      }
    },
    {
      "cell_type": "code",
      "source": [
        "#Example\n",
        "\n",
        "import logging\n",
        "\n",
        "\n",
        "logging.basicConfig(level=logging.DEBUG)\n",
        "\n",
        "logging.debug(\"This is a debug message.\")\n",
        "logging.info(\"This is an info message.\")\n",
        "logging.warning(\"This is a warning.\")\n",
        "logging.error(\"This is an error!\")\n",
        "logging.critical(\"This is critical!\")\n"
      ],
      "metadata": {
        "colab": {
          "base_uri": "https://localhost:8080/"
        },
        "id": "apTUSiIZ7-Ts",
        "outputId": "a63752aa-f4e5-40a5-9504-36f204d266f7"
      },
      "execution_count": null,
      "outputs": [
        {
          "output_type": "stream",
          "name": "stderr",
          "text": [
            "WARNING:root:This is a warning.\n",
            "ERROR:root:This is an error!\n",
            "CRITICAL:root:This is critical!\n"
          ]
        }
      ]
    },
    {
      "cell_type": "markdown",
      "source": [
        "**18. What is the difference between os.fork() and multiprocessing in Python?**\n",
        ">**os.fork() : Low-Level Process Creation**\n",
        "\n",
        ">**What it does:**\n",
        "\n",
        ">>os.fork() is a Unix-specific system call that creates a new process by duplicating the current one (the \"parent\").\n",
        "\n",
        ">>After a fork, both the parent and child processes run the same code from the point of the fork() call.\n",
        "\n",
        ">**Pros:**\n",
        "\n",
        ">>Very fast and lightweight.\n",
        "\n",
        ">>Gives full control over process behavior.\n",
        "\n",
        ">**Cons:**\n",
        "\n",
        ">>Only works on Unix-like systems (Linux, macOS — not Windows).\n",
        "\n",
        ">>Very low-level and easy to misuse, which can lead to bugs.\n",
        "\n",
        ">>Manual management of inter-process communication (IPC), cleanup, etc."
      ],
      "metadata": {
        "id": "pdav9gtz8CCE"
      }
    },
    {
      "cell_type": "code",
      "source": [
        "#Example\n",
        "\n",
        "import os\n",
        "\n",
        "pid = os.fork()\n",
        "\n",
        "if pid == 0:\n",
        "    print(\"This is the child process.\")\n",
        "else:\n",
        "    print(\"This is the parent process.\")\n"
      ],
      "metadata": {
        "colab": {
          "base_uri": "https://localhost:8080/"
        },
        "id": "3V-RdjUi8ag9",
        "outputId": "10e9074b-1798-4060-dfe1-146c8967273f"
      },
      "execution_count": null,
      "outputs": [
        {
          "output_type": "stream",
          "name": "stdout",
          "text": [
            "This is the parent process.\n",
            "This is the child process.\n"
          ]
        }
      ]
    },
    {
      "cell_type": "markdown",
      "source": [
        ">**multiprocessing: High-Level Process Management**\n",
        "\n",
        ">**What it does:**\n",
        "\n",
        ">>The multiprocessing module provides a portable and Pythonic way to create and manage separate processes.\n",
        "\n",
        ">>It works on Windows, Linux, and macOS.\n",
        "\n",
        ">>Supports features like process pools, queues, pipes, and shared memory.\n",
        "\n",
        ">**Pros:**\n",
        "\n",
        ">>Cross-platform (Windows and Unix).\n",
        "\n",
        ">>Easier and safer to use.\n",
        "\n",
        ">>Comes with built-in tools for inter-process communication, process synchronization, and shared data.\n",
        "\n",
        ">>**Cons:**\n",
        "\n",
        ">Slightly more overhead than os.fork() due to abstraction.\n",
        "\n",
        ">Less control over low-level OS behavior."
      ],
      "metadata": {
        "id": "nG-2lKAo8dU7"
      }
    },
    {
      "cell_type": "code",
      "source": [
        "#Example\n",
        "\n",
        "from multiprocessing import Process\n",
        "\n",
        "def worker():\n",
        "    print(\"This is the child process.\")\n",
        "\n",
        "p = Process(target=worker)\n",
        "p.start()\n",
        "p.join()\n",
        "print(\"This is the parent process.\")\n"
      ],
      "metadata": {
        "id": "Wapp5zut84J7",
        "colab": {
          "base_uri": "https://localhost:8080/"
        },
        "outputId": "388f32ee-0b58-41f7-ca80-3e51d793f78c"
      },
      "execution_count": null,
      "outputs": [
        {
          "output_type": "stream",
          "name": "stdout",
          "text": [
            "This is the child process.\n",
            "This is the parent process.\n"
          ]
        }
      ]
    },
    {
      "cell_type": "markdown",
      "source": [
        "**19. What is the importance of closing a file in Python?**\n",
        ">**Releases System Resources**\n",
        "\n",
        ">>Open files consume system-level resources (file descriptors).\n",
        "\n",
        ">>If too many files are left open, you may hit the system limit, leading to\n",
        "errors like:\n",
        "\n",
        ">>>OSError: [Errno 24] Too many open files.\n",
        "\n",
        ">**Saves Data Properly (Writes Are Flushed)**\n",
        "\n",
        ">>When writing to a file, Python may use buffering (temporary storage).\n",
        "\n",
        ">>Closing the file ensures all data is flushed from the buffer to disk.\n",
        "\n",
        ">>If you don’t close it, data may be partially written or lost.\n",
        "\n",
        "\n",
        ">**Avoids File Corruption or Inconsistency**\n",
        "\n",
        ">>Leaving a file open — especially in write or append mode — may lead to:\n",
        "\n",
        ">>Incomplete writes\n",
        "\n",
        ">>File locking issues\n",
        "\n",
        ">>Corruption if the program crashes before closing\n",
        "\n",
        ">**Makes Your Program Cleaner and Safer**\n",
        "\n",
        ">>Files that are not closed can:\n",
        "\n",
        ">>Be locked by the OS\n",
        "\n",
        ">>Interfere with other programs trying to access them\n",
        "\n",
        ">>Leak resources over time\n",
        "\n"
      ],
      "metadata": {
        "id": "RSvh0LGv9Kvq"
      }
    },
    {
      "cell_type": "markdown",
      "source": [
        "**20. What is the difference between file.read() and file.readline() in Python?**\n",
        ">**Purpose:**\n",
        "\n",
        ">>file.read() reads the entire file or a specified number of bytes at once, whereas file.readline() reads one line from the file at a time.\n",
        "\n",
        ">**Returns:**\n",
        "\n",
        ">>file.read() returns a string containing all the data read, while file.readline() returns a string containing a single line, including the newline character.\n",
        "\n",
        ">**Usage:**\n",
        "\n",
        ">>file.read() is typically used when you want to get all or a large chunk of the file content at once, but file.readline() is used when you need to process the file line-by-line.\n",
        "\n",
        ">**Blocking Behavior:**\n",
        "\n",
        ">>file.read() reads until the end of the file (EOF) or until the specified number of bytes is read, whereas file.readline() reads up to the newline character (\\n) or EOF.\n",
        "\n",
        ">**Typical Use Case:**\n",
        "\n",
        ">>You would use file.read() when you want to load the whole file or a big chunk into memory, while file.readline() is useful when you want to process or parse the file one line at a time."
      ],
      "metadata": {
        "id": "UVNiOLuY94Ws"
      }
    },
    {
      "cell_type": "code",
      "source": [
        "#Example Using file.read()\n",
        "\n",
        "with open(\"sample.txt\", \"r\") as file:\n",
        "    content = file.read()\n",
        "    print(content)\n",
        "\n",
        "\n",
        "\n",
        "#Example Using file.readline()\n",
        "\n",
        "with open(\"sample.txt\", \"r\") as file:\n",
        "    line = file.readline()\n",
        "    while line:\n",
        "        print(line, end='')\n",
        "        line = file.readline()\n"
      ],
      "metadata": {
        "id": "Bf2RdtLW-co3",
        "colab": {
          "base_uri": "https://localhost:8080/"
        },
        "outputId": "3110fc3b-5e5a-44cd-f9ea-4fc063e2de0f"
      },
      "execution_count": null,
      "outputs": [
        {
          "output_type": "stream",
          "name": "stdout",
          "text": [
            "This is a sample text file.\n",
            "It is used to demonstrate how to read files,\n",
            "count word occurrences, and handle errors in Python.\n",
            "\n",
            "This file contains the word 'example' multiple times.\n",
            "Example: This is one example. Another example is right here.\n",
            "\n",
            "This is a sample text file.\n",
            "It is used to demonstrate how to read files,\n",
            "count word occurrences, and handle errors in Python.\n",
            "\n",
            "This file contains the word 'example' multiple times.\n",
            "Example: This is one example. Another example is right here.\n"
          ]
        }
      ]
    },
    {
      "cell_type": "markdown",
      "source": [
        "**21. What is the logging module in Python used for?**\n",
        ">**Main Uses of the logging Module:**\n",
        "\n",
        ">**Error Reporting**\n",
        "\n",
        ">>Log unexpected events or exceptions (instead of printing them), especially useful in production applications.\n",
        "\n",
        ">**Debugging**\n",
        "\n",
        ">>Track the flow of execution and internal state during development.\n",
        "\n",
        ">**Monitoring**\n",
        "\n",
        ">>Log events like user actions, system status, or API usage in applications.\n",
        "\n",
        ">**Persistent Logs**\n",
        "\n",
        ">>Unlike print(), logs can be written to files, console, or even remote servers.\n",
        "\n",
        "\n"
      ],
      "metadata": {
        "id": "S5Sv09eQEjdB"
      }
    },
    {
      "cell_type": "code",
      "source": [
        "#Example: Basic Logging\n",
        "\n",
        "import logging\n",
        "\n",
        "\n",
        "logging.basicConfig(level=logging.INFO)\n",
        "\n",
        "logging.debug(\"This is a debug message\")\n",
        "logging.info(\"This is an info message\")\n",
        "logging.warning(\"This is a warning\")\n",
        "logging.error(\"This is an error message\")\n",
        "logging.critical(\"This is critical\")"
      ],
      "metadata": {
        "colab": {
          "base_uri": "https://localhost:8080/"
        },
        "id": "jlXTrw7DFJwR",
        "outputId": "d5bc3da0-9d67-4d95-a6cc-d3f3283ab241"
      },
      "execution_count": null,
      "outputs": [
        {
          "output_type": "stream",
          "name": "stderr",
          "text": [
            "WARNING:root:This is a warning\n",
            "ERROR:root:This is an error message\n",
            "CRITICAL:root:This is critical\n"
          ]
        }
      ]
    },
    {
      "cell_type": "markdown",
      "source": [
        "**22. What is the os module in Python used for in file handling?**\n",
        ">"
      ],
      "metadata": {
        "id": "0pPWOyV0FMZQ"
      }
    },
    {
      "cell_type": "code",
      "source": [
        "#Check if a file or folder exists\n",
        "\n",
        "import os\n",
        "\n",
        "if os.path.exists('sample.txt'):\n",
        "    print(\"File exists.\")\n",
        "else:\n",
        "    print(\"File does not exist.\")\n",
        "\n"
      ],
      "metadata": {
        "colab": {
          "base_uri": "https://localhost:8080/"
        },
        "id": "hCwVEQ0YFhZo",
        "outputId": "1f95057b-f953-48af-aa95-589b2b3dd9a2"
      },
      "execution_count": null,
      "outputs": [
        {
          "output_type": "stream",
          "name": "stdout",
          "text": [
            "File exists.\n"
          ]
        }
      ]
    },
    {
      "cell_type": "code",
      "source": [
        "#Check if a file is empty\n",
        "\n",
        "\n",
        "if os.path.getsize('sample.txt') == 0:\n",
        "    print(\"File is empty.\")"
      ],
      "metadata": {
        "id": "mWj6LfjfFmd4"
      },
      "execution_count": null,
      "outputs": []
    },
    {
      "cell_type": "code",
      "source": [
        "#List files in a directory\n",
        "\n",
        "for file in os.listdir('.'):\n",
        "    print(file)"
      ],
      "metadata": {
        "colab": {
          "base_uri": "https://localhost:8080/"
        },
        "id": "VwSIV_fmFtY1",
        "outputId": "f7bea5d3-9903-409a-ec7b-934d2090f761"
      },
      "execution_count": null,
      "outputs": [
        {
          "output_type": "stream",
          "name": "stdout",
          "text": [
            ".config\n",
            "sample.txt\n",
            "sample_data\n"
          ]
        }
      ]
    },
    {
      "cell_type": "code",
      "source": [
        "#Get full or absolute file path\n",
        "\n",
        "print(os.path.abspath('sample.txt'))\n"
      ],
      "metadata": {
        "colab": {
          "base_uri": "https://localhost:8080/"
        },
        "id": "ouqL0gl6FyWo",
        "outputId": "28659760-0d82-4a19-b856-4e075f1e2c05"
      },
      "execution_count": null,
      "outputs": [
        {
          "output_type": "stream",
          "name": "stdout",
          "text": [
            "/content/sample.txt\n"
          ]
        }
      ]
    },
    {
      "cell_type": "code",
      "source": [
        "#Delete a file\n",
        "\n",
        "if os.path.exists('sample.txt'):\n",
        "    os.remove('sample.txt')"
      ],
      "metadata": {
        "id": "JfxpCYkqF1nI"
      },
      "execution_count": null,
      "outputs": []
    },
    {
      "cell_type": "code",
      "source": [
        "#Create or remove directories\n",
        "\n",
        "os.mkdir('new_folder')      # Create a folder\n",
        "os.rmdir('new_folder')      # Remove an empty folder\n",
        "\n"
      ],
      "metadata": {
        "id": "k9nyjSVTGBG4"
      },
      "execution_count": null,
      "outputs": []
    },
    {
      "cell_type": "markdown",
      "source": [
        "**23. What are the challenges associated with memory management in Python?**\n",
        ">**Memory Leaks**\n",
        "\n",
        ">>Even though Python has garbage collection, memory leaks can still occur—usually when:\n",
        "\n",
        ">>Objects reference each other in a cycle (circular references)\n",
        "\n",
        ">>Global variables or caches keep growing and aren’t cleared\n",
        "\n",
        ">>Closures or lambdas retain references longer than needed\n",
        "\n",
        ">**Circular References**\n",
        "\n",
        ">>Python’s reference counting can't handle circular references on its own. The gc (garbage collection) module can help, but it's not perfect and introduces performance overhead.\n",
        "\n",
        ">**Unintentional Object Retention**\n",
        "\n",
        ">>Leaving references in scope (e.g., global lists or functions that keep objects alive)\n",
        "\n",
        ">>Logging or error handling holding tracebacks\n",
        "\n",
        ">>List or dictionary growth not being managed\n",
        "\n",
        ">**Lack of Manual Control**\n",
        "\n",
        ">>Unlike languages like C or C++, Python doesn't allow direct memory deallocation, so:\n",
        "\n",
        ">>You can't force immediate cleanup\n",
        "\n",
        ">>You rely on the garbage collector, which may not act quickly\n",
        "\n",
        ">**Heavy Data Structures**\n",
        "\n",
        ">>Using large data structures like lists of dictionaries or nested JSON-like objects can quickly exhaust memory if not managed properly.\n",
        "\n",
        ">>Better alternative: Use generators, iterators, or NumPy arrays to reduce overhead.\n",
        "\n",
        ">**Garbage Collector Overhead**\n",
        "\n",
        ">>Python’s cyclic garbage collector can cause:\n",
        "\n",
        ">>Pauses in program execution during collection cycles\n",
        "\n",
        ">>Performance dips in latency-sensitive apps (e.g., real-time systems or games)\n",
        "\n",
        ">**Memory Fragmentation**\n",
        "\n",
        ">>In long-running Python programs (especially those using C extensions), memory can become fragmented, leading to inefficient usage and inability to allocate large blocks.\n",
        "\n",
        ">**Third-Party Libraries**\n",
        "\n",
        ">>Some libraries (especially those with C extensions or custom memory allocators) may not release memory properly, or may hold onto memory aggressively (e.g., TensorFlow, NumPy buffers).\n",
        "\n"
      ],
      "metadata": {
        "id": "omGjhn_JGmGu"
      }
    },
    {
      "cell_type": "markdown",
      "source": [
        "**24. How do you raise an exception manually in Python?**\n",
        ">"
      ],
      "metadata": {
        "id": "ASBzza3xHcbO"
      }
    },
    {
      "cell_type": "code",
      "source": [
        "#Basic Syntax\n",
        "\n",
        "\n",
        "raise ExceptionType(\"Your custom error message\")"
      ],
      "metadata": {
        "colab": {
          "base_uri": "https://localhost:8080/",
          "height": 176
        },
        "id": "JRA4LqMVHpt0",
        "outputId": "6cfa2c7d-cea6-4483-8d10-a87d644c04be"
      },
      "execution_count": null,
      "outputs": [
        {
          "output_type": "error",
          "ename": "NameError",
          "evalue": "name 'ExceptionType' is not defined",
          "traceback": [
            "\u001b[0;31m---------------------------------------------------------------------------\u001b[0m",
            "\u001b[0;31mNameError\u001b[0m                                 Traceback (most recent call last)",
            "\u001b[0;32m/tmp/ipython-input-41-2323839902.py\u001b[0m in \u001b[0;36m<cell line: 0>\u001b[0;34m()\u001b[0m\n\u001b[1;32m      2\u001b[0m \u001b[0;34m\u001b[0m\u001b[0m\n\u001b[1;32m      3\u001b[0m \u001b[0;34m\u001b[0m\u001b[0m\n\u001b[0;32m----> 4\u001b[0;31m \u001b[0;32mraise\u001b[0m \u001b[0mExceptionType\u001b[0m\u001b[0;34m(\u001b[0m\u001b[0;34m\"Your custom error message\"\u001b[0m\u001b[0;34m)\u001b[0m\u001b[0;34m\u001b[0m\u001b[0;34m\u001b[0m\u001b[0m\n\u001b[0m",
            "\u001b[0;31mNameError\u001b[0m: name 'ExceptionType' is not defined"
          ]
        }
      ]
    },
    {
      "cell_type": "code",
      "source": [
        "#Common Example\n",
        "\n",
        "age = -5\n",
        "\n",
        "if age < 0:\n",
        "    raise ValueError(\"Age cannot be negative\")"
      ],
      "metadata": {
        "colab": {
          "base_uri": "https://localhost:8080/",
          "height": 176
        },
        "id": "ViDwcnbbH9-j",
        "outputId": "78afddc1-f938-4cbb-b224-15e7016664f6"
      },
      "execution_count": null,
      "outputs": [
        {
          "output_type": "error",
          "ename": "ValueError",
          "evalue": "Age cannot be negative",
          "traceback": [
            "\u001b[0;31m---------------------------------------------------------------------------\u001b[0m",
            "\u001b[0;31mValueError\u001b[0m                                Traceback (most recent call last)",
            "\u001b[0;32m/tmp/ipython-input-43-1252407380.py\u001b[0m in \u001b[0;36m<cell line: 0>\u001b[0;34m()\u001b[0m\n\u001b[1;32m      4\u001b[0m \u001b[0;34m\u001b[0m\u001b[0m\n\u001b[1;32m      5\u001b[0m \u001b[0;32mif\u001b[0m \u001b[0mage\u001b[0m \u001b[0;34m<\u001b[0m \u001b[0;36m0\u001b[0m\u001b[0;34m:\u001b[0m\u001b[0;34m\u001b[0m\u001b[0;34m\u001b[0m\u001b[0m\n\u001b[0;32m----> 6\u001b[0;31m     \u001b[0;32mraise\u001b[0m \u001b[0mValueError\u001b[0m\u001b[0;34m(\u001b[0m\u001b[0;34m\"Age cannot be negative\"\u001b[0m\u001b[0;34m)\u001b[0m\u001b[0;34m\u001b[0m\u001b[0;34m\u001b[0m\u001b[0m\n\u001b[0m",
            "\u001b[0;31mValueError\u001b[0m: Age cannot be negative"
          ]
        }
      ]
    },
    {
      "cell_type": "code",
      "source": [
        "#Custom Exception Example\n",
        "\n",
        "\n",
        "\n",
        "class CustomError(Exception):\n",
        "    pass\n",
        "\n",
        "# Raise your custom exception\n",
        "raise CustomError(\"Something custom went wrong\")"
      ],
      "metadata": {
        "colab": {
          "base_uri": "https://localhost:8080/",
          "height": 176
        },
        "id": "P74QPRHLH_2j",
        "outputId": "9b2a2835-599e-40cf-862f-a5237950d7c1"
      },
      "execution_count": null,
      "outputs": [
        {
          "output_type": "error",
          "ename": "CustomError",
          "evalue": "Something custom went wrong",
          "traceback": [
            "\u001b[0;31m---------------------------------------------------------------------------\u001b[0m",
            "\u001b[0;31mCustomError\u001b[0m                               Traceback (most recent call last)",
            "\u001b[0;32m/tmp/ipython-input-44-864598278.py\u001b[0m in \u001b[0;36m<cell line: 0>\u001b[0;34m()\u001b[0m\n\u001b[1;32m      7\u001b[0m \u001b[0;34m\u001b[0m\u001b[0m\n\u001b[1;32m      8\u001b[0m \u001b[0;31m# Raise your custom exception\u001b[0m\u001b[0;34m\u001b[0m\u001b[0;34m\u001b[0m\u001b[0m\n\u001b[0;32m----> 9\u001b[0;31m \u001b[0;32mraise\u001b[0m \u001b[0mCustomError\u001b[0m\u001b[0;34m(\u001b[0m\u001b[0;34m\"Something custom went wrong\"\u001b[0m\u001b[0;34m)\u001b[0m\u001b[0;34m\u001b[0m\u001b[0;34m\u001b[0m\u001b[0m\n\u001b[0m",
            "\u001b[0;31mCustomError\u001b[0m: Something custom went wrong"
          ]
        }
      ]
    },
    {
      "cell_type": "markdown",
      "source": [
        "**25. Why is it important to use multithreading in certain applications?**\n",
        ">**Improves Responsiveness (Especially in GUIs and Web Apps)**\n",
        "\n",
        ">In applications like user interfaces or web servers, multithreading prevents the program from freezing or becoming unresponsive during tasks like file loading, network calls, or database queries.\n",
        "\n",
        "\n",
        ">**Efficient Use of I/O Wait Time (I/O-Bound Tasks)**\n",
        "\n",
        ">Python's Global Interpreter Lock (GIL) limits CPU-bound concurrency, but I/O-bound tasks like:\n",
        "\n",
        ">Reading/writing files\n",
        "\n",
        ">Making HTTP requests\n",
        "\n",
        ">Interacting with databases\n",
        "...benefit greatly from multithreading since threads can run while others wait on I/O.\n",
        "\n",
        ">**Faster Perceived Performance**\n",
        "\n",
        ">Threads can handle background tasks like logging, caching, or loading data without delaying the main task—improving the user's perception of speed.\n",
        "\n",
        ">**Concurrent Handling of Clients in Servers**\n",
        "\n",
        ">In a web server or socket-based app, threads can manage multiple users or requests simultaneously.\n",
        "\n",
        "\n",
        "\n",
        ">**Simplifies Code for Parallel Tasks**\n",
        "\n",
        ">If you have multiple independent tasks (e.g., sending emails while uploading files), using threads can help keep the logic clean and parallel.\n",
        "\n"
      ],
      "metadata": {
        "id": "aWkEdg0fIJF8"
      }
    },
    {
      "cell_type": "markdown",
      "source": [
        "#**Practical Questions**"
      ],
      "metadata": {
        "id": "He1k9cJ0EZIb"
      }
    },
    {
      "cell_type": "markdown",
      "source": [
        "**1. How can you open a file for writing in Python and write a string to it?**\n",
        ">To open a file for writing in Python and write a string to it, you can use the built-in open() function with the 'w' mode (write mode), and then call the write() method.\n",
        "\n",
        ">'w' mode will create the file if it doesn't exist, or overwrite it if it does.\n",
        "\n",
        ">Using with ensures the file is automatically closed after writing, even if an error occurs."
      ],
      "metadata": {
        "id": "uT_M00L3Hc9e"
      }
    },
    {
      "cell_type": "code",
      "source": [
        "with open('example.txt', 'w') as file:\n",
        "\n",
        "    file.write('Hello, world!')"
      ],
      "metadata": {
        "id": "TwGflMbMHuKl"
      },
      "execution_count": 1,
      "outputs": []
    },
    {
      "cell_type": "markdown",
      "source": [
        "**2. Write a Python program to read the contents of a file and print each line.**"
      ],
      "metadata": {
        "id": "YmZjPWh8H4RN"
      }
    },
    {
      "cell_type": "code",
      "source": [
        "\n",
        "try:\n",
        "    with open('example.txt', 'r') as file:\n",
        "        for line in file:\n",
        "            print(line, end='')\n",
        "except FileNotFoundError:\n",
        "    print(\"The file was not found.\")\n"
      ],
      "metadata": {
        "colab": {
          "base_uri": "https://localhost:8080/"
        },
        "id": "pqQwEU-VIF9c",
        "outputId": "23165b61-6538-465d-85df-799fcb85309a"
      },
      "execution_count": 2,
      "outputs": [
        {
          "output_type": "stream",
          "name": "stdout",
          "text": [
            "Hello, world!"
          ]
        }
      ]
    },
    {
      "cell_type": "markdown",
      "source": [
        "**3. How would you handle a case where the file doesn't exist while trying to open it for readin?**\n",
        ">**try:** Attempts to open and read the file.\n",
        "\n",
        ">**except FileNotFoundError:** Catches the specific error raised when the file doesn't exist and handles it gracefully.\n",
        "\n",
        ">**f-string:** Makes it easy to include the filename in the error message."
      ],
      "metadata": {
        "id": "PpW7Q3uaIN3F"
      }
    },
    {
      "cell_type": "code",
      "source": [
        "filename = 'example.txt'\n",
        "\n",
        "try:\n",
        "    with open(filename, 'r') as file:\n",
        "        for line in file:\n",
        "            print(line, end='')\n",
        "except FileNotFoundError:\n",
        "    print(f\"Error: The file '{filename}' does not exist.\")\n"
      ],
      "metadata": {
        "colab": {
          "base_uri": "https://localhost:8080/"
        },
        "id": "DrKk55MSIh0V",
        "outputId": "28729878-de5e-4616-baef-22f6a93986c5"
      },
      "execution_count": 3,
      "outputs": [
        {
          "output_type": "stream",
          "name": "stdout",
          "text": [
            "Hello, world!"
          ]
        }
      ]
    },
    {
      "cell_type": "markdown",
      "source": [
        "**4. Write a Python script that reads from one file and writes its content to another file.**"
      ],
      "metadata": {
        "id": "FUSnrIrzIyos"
      }
    },
    {
      "cell_type": "code",
      "source": [
        "# Define the file names\n",
        "source_file = 'sample.txt'\n",
        "destination_file = 'example.txt'\n",
        "\n",
        "try:\n",
        "    # Open the source file for reading\n",
        "    with open(source_file, 'r') as src:\n",
        "        content = src.read()\n",
        "\n",
        "    # Open the destination file for writing\n",
        "    with open(destination_file, 'w') as dst:\n",
        "        dst.write(content)\n",
        "\n",
        "    print(f\"Contents copied from '{source_file}' to '{destination_file}'.\")\n",
        "except FileNotFoundError:\n",
        "    print(f\"Error: The file '{source_file}' does not exist.\")\n",
        "except Exception as e:\n",
        "    print(f\"An unexpected error occurred: {e}\")\n",
        "\n",
        "\n"
      ],
      "metadata": {
        "colab": {
          "base_uri": "https://localhost:8080/"
        },
        "id": "vS1D37DlJy6C",
        "outputId": "609e9f37-c581-434c-b0e7-e5d2c79b8692"
      },
      "execution_count": 7,
      "outputs": [
        {
          "output_type": "stream",
          "name": "stdout",
          "text": [
            "Contents copied from 'sample.txt' to 'example.txt'.\n"
          ]
        }
      ]
    },
    {
      "cell_type": "markdown",
      "source": [
        "**5. How would you catch and handle division by zero error in Python?**"
      ],
      "metadata": {
        "id": "ida9FPM3KrAR"
      }
    },
    {
      "cell_type": "code",
      "source": [
        "try:\n",
        "    numerator = 10\n",
        "    denominator = 0\n",
        "    result = numerator / denominator\n",
        "    print(\"Result:\", result)\n",
        "except ZeroDivisionError:\n",
        "    print(\"Error: Cannot divide by zero.\")"
      ],
      "metadata": {
        "colab": {
          "base_uri": "https://localhost:8080/"
        },
        "id": "9lFjXZ-BK1x4",
        "outputId": "efbe400f-f90a-4e41-e354-900ea707c23b"
      },
      "execution_count": 8,
      "outputs": [
        {
          "output_type": "stream",
          "name": "stdout",
          "text": [
            "Error: Cannot divide by zero.\n"
          ]
        }
      ]
    },
    {
      "cell_type": "markdown",
      "source": [
        "**6. Write a Python program that logs an error message to a log file when a division by zero exception occurs.**"
      ],
      "metadata": {
        "id": "BuKIUc4oK39p"
      }
    },
    {
      "cell_type": "code",
      "source": [
        "import logging\n",
        "\n",
        "\n",
        "logging.basicConfig(\n",
        "    filename='error.log',\n",
        "    level=logging.ERROR,\n",
        "    format='%(asctime)s - %(levelname)s - %(message)s'\n",
        ")\n",
        "\n",
        "try:\n",
        "    numerator = 10\n",
        "    denominator = 0\n",
        "    result = numerator / denominator\n",
        "    print(\"Result:\", result)\n",
        "except ZeroDivisionError as e:\n",
        "    logging.error(\"Division by zero error occurred: %s\", e)\n",
        "    print(\"An error occurred. Check 'error.log' for details.\")\n"
      ],
      "metadata": {
        "colab": {
          "base_uri": "https://localhost:8080/"
        },
        "id": "5MgDDOlFLC4v",
        "outputId": "bef59e67-bc8f-4615-d0d4-fdda59962238"
      },
      "execution_count": 9,
      "outputs": [
        {
          "output_type": "stream",
          "name": "stderr",
          "text": [
            "ERROR:root:Division by zero error occurred: division by zero\n"
          ]
        },
        {
          "output_type": "stream",
          "name": "stdout",
          "text": [
            "An error occurred. Check 'error.log' for details.\n"
          ]
        }
      ]
    },
    {
      "cell_type": "markdown",
      "source": [
        "**7.  How do you log information at different levels (INFO, ERROR, WARNING) in Python using the logging module?**"
      ],
      "metadata": {
        "id": "tIQWKan2LIXH"
      }
    },
    {
      "cell_type": "code",
      "source": [
        "import logging\n",
        "\n",
        "\n",
        "logging.basicConfig(\n",
        "    filename='app.log',\n",
        "    level=logging.DEBUG,\n",
        "    format='%(asctime)s - %(levelname)s - %(message)s'\n",
        ")\n",
        "\n",
        "\n",
        "logging.debug(\"This is a debug message\")\n",
        "logging.info(\"This is an info message\")\n",
        "logging.warning(\"This is a warning message\")\n",
        "logging.error(\"This is an error message\")\n",
        "logging.critical(\"This is a critical message\")\n",
        "\n",
        "print(\"Logging complete. Check 'app.log' for output.\")\n"
      ],
      "metadata": {
        "colab": {
          "base_uri": "https://localhost:8080/"
        },
        "id": "iCpXG8GvLNZ9",
        "outputId": "503ebe0c-fda9-466e-e380-488615ab3026"
      },
      "execution_count": 10,
      "outputs": [
        {
          "output_type": "stream",
          "name": "stderr",
          "text": [
            "WARNING:root:This is a warning message\n",
            "ERROR:root:This is an error message\n",
            "CRITICAL:root:This is a critical message\n"
          ]
        },
        {
          "output_type": "stream",
          "name": "stdout",
          "text": [
            "Logging complete. Check 'app.log' for output.\n"
          ]
        }
      ]
    },
    {
      "cell_type": "markdown",
      "source": [
        "**8. Write a program to handle a file opening error using exception handling.**"
      ],
      "metadata": {
        "id": "pQOEEc1sLbkA"
      }
    },
    {
      "cell_type": "code",
      "source": [
        "filename = 'somefile.txt'\n",
        "\n",
        "try:\n",
        "    with open(filename, 'r') as file:\n",
        "        content = file.read()\n",
        "        print(\"File content:\")\n",
        "        print(content)\n",
        "except FileNotFoundError:\n",
        "    print(f\"Error: The file '{filename}' does not exist.\")\n",
        "except IOError:\n",
        "    print(f\"Error: An I/O error occurred while handling the file '{filename}'.\")\n",
        "except Exception as e:\n",
        "    print(f\"An unexpected error occurred: {e}\")\n"
      ],
      "metadata": {
        "colab": {
          "base_uri": "https://localhost:8080/"
        },
        "id": "W487ZKqGLgiX",
        "outputId": "95f14857-83cd-4bc9-a9fa-88fa3d142342"
      },
      "execution_count": 11,
      "outputs": [
        {
          "output_type": "stream",
          "name": "stdout",
          "text": [
            "Error: The file 'somefile.txt' does not exist.\n"
          ]
        }
      ]
    },
    {
      "cell_type": "markdown",
      "source": [
        "**9. How can you read a file line by line and store its content in a list in Python?**"
      ],
      "metadata": {
        "id": "0LcO0bx8Lp__"
      }
    },
    {
      "cell_type": "code",
      "source": [
        "filename = 'example.txt'\n",
        "\n",
        "lines = []\n",
        "with open(filename, 'r') as file:\n",
        "    for line in file:\n",
        "        lines.append(line.rstrip('\\n'))\n",
        "\n",
        "print(lines)\n"
      ],
      "metadata": {
        "colab": {
          "base_uri": "https://localhost:8080/"
        },
        "id": "lCVaiQFyLyPX",
        "outputId": "53ed5e0f-64d8-4097-a33c-edecec68883e"
      },
      "execution_count": 12,
      "outputs": [
        {
          "output_type": "stream",
          "name": "stdout",
          "text": [
            "['This is the first line.', 'This is the second line.', 'This is the third line.']\n"
          ]
        }
      ]
    },
    {
      "cell_type": "markdown",
      "source": [
        "**10. How can you append data to an existing file in Python?**"
      ],
      "metadata": {
        "id": "ZIDSE5mcL2XQ"
      }
    },
    {
      "cell_type": "code",
      "source": [
        "with open('example.txt', 'a') as file:\n",
        "    file.write(\"This line will be appended to the file.\\n\")\n"
      ],
      "metadata": {
        "id": "MaB9kVd3MARN"
      },
      "execution_count": 17,
      "outputs": []
    },
    {
      "cell_type": "markdown",
      "source": [
        "**11. Write a Python program that uses a try-except block to handle an error when attempting to access a dictionary key that doesn't exist.**"
      ],
      "metadata": {
        "id": "UgVLDTZwMUa_"
      }
    },
    {
      "cell_type": "code",
      "source": [
        "my_dict = {'name': 'Manish', 'age': 25}\n",
        "\n",
        "try:\n",
        "\n",
        "    value = my_dict['address']\n",
        "    print(\"Address:\", value)\n",
        "except KeyError:\n",
        "    print(\"Error: The key 'address' does not exist in the dictionary.\")\n"
      ],
      "metadata": {
        "colab": {
          "base_uri": "https://localhost:8080/"
        },
        "id": "Q1DUy12qMlRd",
        "outputId": "2657f3d0-110e-4fa8-f746-a4ea710371aa"
      },
      "execution_count": 18,
      "outputs": [
        {
          "output_type": "stream",
          "name": "stdout",
          "text": [
            "Error: The key 'address' does not exist in the dictionary.\n"
          ]
        }
      ]
    },
    {
      "cell_type": "markdown",
      "source": [
        "**12. Write a program that demonstrates using multiple except blocks to handle different types of exceptions.**\n"
      ],
      "metadata": {
        "id": "ngF5YXoVMudV"
      }
    },
    {
      "cell_type": "code",
      "source": [
        "try:\n",
        "\n",
        "    num1 = int(input(\"Enter numerator (integer): \"))\n",
        "    num2 = int(input(\"Enter denominator (integer): \"))\n",
        "    result = num1 / num2\n",
        "    print(f\"Result: {result}\")\n",
        "\n",
        "    my_list = [1, 2, 3]\n",
        "    index = int(input(\"Enter index to access in the list: \"))\n",
        "    print(f\"Element at index {index}: {my_list[index]}\")\n",
        "\n",
        "except ZeroDivisionError:\n",
        "    print(\"Error: You cannot divide by zero.\")\n",
        "\n",
        "except ValueError:\n",
        "    print(\"Error: Please enter a valid integer.\")\n",
        "\n",
        "except IndexError:\n",
        "    print(\"Error: List index is out of range.\")\n",
        "\n",
        "except Exception as e:\n",
        "    print(f\"An unexpected error occurred: {e}\")\n"
      ],
      "metadata": {
        "colab": {
          "base_uri": "https://localhost:8080/"
        },
        "id": "1fDYu2kiM1gV",
        "outputId": "9afe1ef3-92eb-48c3-9f03-fb085506e54c"
      },
      "execution_count": 20,
      "outputs": [
        {
          "output_type": "stream",
          "name": "stdout",
          "text": [
            "Enter numerator (integer): 10\n",
            "Enter denominator (integer): 5\n",
            "Result: 2.0\n",
            "Enter index to access in the list: 2\n",
            "Element at index 2: 3\n"
          ]
        }
      ]
    },
    {
      "cell_type": "markdown",
      "source": [
        "**13. How would you check if a file exists before attempting to read it in Python?**"
      ],
      "metadata": {
        "id": "kYnMb7vZNE88"
      }
    },
    {
      "cell_type": "code",
      "source": [
        "import os\n",
        "\n",
        "filename = 'example.txt'\n",
        "\n",
        "if os.path.exists(filename):\n",
        "    with open(filename, 'r') as file:\n",
        "        content = file.read()\n",
        "        print(content)\n",
        "else:\n",
        "    print(f\"The file '{filename}' does not exist.\")\n"
      ],
      "metadata": {
        "colab": {
          "base_uri": "https://localhost:8080/"
        },
        "id": "QKsvAPwENLLU",
        "outputId": "7d765d87-55a8-4a20-c61b-697f4e8281aa"
      },
      "execution_count": 21,
      "outputs": [
        {
          "output_type": "stream",
          "name": "stdout",
          "text": [
            "This is the first line.\n",
            "This is the second line.\n",
            "This is the third line.\n",
            "This line will be appended to the file.\n",
            "This line will be appended to the file.\n",
            "This line will be appended to the file.\n",
            "This line will be appended to the file.\n",
            "This line will be appended to the file.\n",
            "\n"
          ]
        }
      ]
    },
    {
      "cell_type": "markdown",
      "source": [
        "**14. Write a program that uses the logging module to log both informational and error messages.**"
      ],
      "metadata": {
        "id": "Emr4rQKTNiEs"
      }
    },
    {
      "cell_type": "code",
      "source": [
        "import logging\n",
        "\n",
        "\n",
        "logging.basicConfig(\n",
        "    filename='app.log',\n",
        "    level=logging.INFO,\n",
        "    format='%(asctime)s - %(levelname)s - %(message)s'\n",
        ")\n",
        "\n",
        "def divide_numbers(a, b):\n",
        "    logging.info(f\"Attempting to divide {a} by {b}\")\n",
        "    try:\n",
        "        result = a / b\n",
        "        logging.info(f\"Division successful: {result}\")\n",
        "        return result\n",
        "    except ZeroDivisionError:\n",
        "        logging.error(\"Error: Division by zero attempted!\")\n",
        "        return None\n",
        "\n",
        "\n",
        "divide_numbers(10, 2)\n",
        "divide_numbers(5, 0)\n"
      ],
      "metadata": {
        "colab": {
          "base_uri": "https://localhost:8080/"
        },
        "id": "m8iFa-_1NtRi",
        "outputId": "7670ef81-a815-475a-db53-aab241802663"
      },
      "execution_count": 22,
      "outputs": [
        {
          "output_type": "stream",
          "name": "stderr",
          "text": [
            "ERROR:root:Error: Division by zero attempted!\n"
          ]
        }
      ]
    },
    {
      "cell_type": "markdown",
      "source": [
        "**15. Write a Python program that prints the content of a file and handles the case when the file is empty.**"
      ],
      "metadata": {
        "id": "Xkoo5wmBN3Sh"
      }
    },
    {
      "cell_type": "code",
      "source": [
        "filename = 'example.txt'\n",
        "\n",
        "try:\n",
        "    with open(filename, 'r') as file:\n",
        "        content = file.read()\n",
        "        if content:\n",
        "            print(\"File content:\")\n",
        "            print(content)\n",
        "        else:\n",
        "            print(\"The file is empty.\")\n",
        "except FileNotFoundError:\n",
        "    print(f\"Error: The file '{filename}' does not exist.\")\n",
        "except Exception as e:\n",
        "    print(f\"An unexpected error occurred: {e}\")\n",
        "\n",
        "\n"
      ],
      "metadata": {
        "colab": {
          "base_uri": "https://localhost:8080/"
        },
        "id": "rs7Pt8PmOCCb",
        "outputId": "4744b5a1-ff6a-42a9-f807-de833c27fec3"
      },
      "execution_count": 25,
      "outputs": [
        {
          "output_type": "stream",
          "name": "stdout",
          "text": [
            "File content:\n",
            "This is the first line.\n",
            "This is the second line.\n",
            "This is the third line.\n",
            "This line will be appended to the file.\n",
            "This line will be appended to the file.\n",
            "This line will be appended to the file.\n",
            "This line will be appended to the file.\n",
            "This line will be appended to the file.\n",
            "\n"
          ]
        }
      ]
    },
    {
      "cell_type": "markdown",
      "source": [
        "**16. Demonstrate how to use memory profiling to check the memory usage of a small program.**"
      ],
      "metadata": {
        "id": "9GFHCLr5OP2r"
      }
    },
    {
      "cell_type": "code",
      "source": [
        "\n",
        "\n",
        "from memory_profiler import memory_usage\n",
        "import time\n",
        "\n",
        "def my_function():\n",
        "    a = [i * 2 for i in range(1000000)]\n",
        "    time.sleep(1)\n",
        "    b = [i ** 2 for i in range(1000000)]\n",
        "    return b\n",
        "\n",
        "\n",
        "mem_usage = memory_usage(my_function)\n",
        "print(f\"Memory usage (in MiB): {mem_usage}\")\n",
        "\n"
      ],
      "metadata": {
        "colab": {
          "base_uri": "https://localhost:8080/"
        },
        "id": "1ED_vwKwOeta",
        "outputId": "166aa4af-a5a4-469a-8041-0bdb2cbf5c33"
      },
      "execution_count": 30,
      "outputs": [
        {
          "output_type": "stream",
          "name": "stdout",
          "text": [
            "Memory usage (in MiB): [128.8125, 128.8125, 157.0625, 157.0625, 157.0625, 157.06640625, 157.06640625, 157.06640625, 157.06640625, 157.06640625, 157.06640625, 157.06640625, 175.484375]\n"
          ]
        }
      ]
    },
    {
      "cell_type": "markdown",
      "source": [
        "**17. Write a Python program to create and write a list of numbers to a file, one number per line.**\n"
      ],
      "metadata": {
        "id": "xGu8d5A2POUZ"
      }
    },
    {
      "cell_type": "code",
      "source": [
        "numbers = [10, 20, 30, 40, 50]\n",
        "\n",
        "with open('numbers.txt', 'w') as file:\n",
        "    for number in numbers:\n",
        "        file.write(f\"{number}\\n\")\n",
        "\n",
        "print(\"Numbers have been written to numbers.txt\")\n"
      ],
      "metadata": {
        "colab": {
          "base_uri": "https://localhost:8080/"
        },
        "id": "m6eFMUwAPXSn",
        "outputId": "1823fca5-5542-4b6c-f105-b37c7e34d9ff"
      },
      "execution_count": 31,
      "outputs": [
        {
          "output_type": "stream",
          "name": "stdout",
          "text": [
            "Numbers have been written to numbers.txt\n"
          ]
        }
      ]
    },
    {
      "cell_type": "markdown",
      "source": [
        "**18. How would you implement a basic logging setup that logs to a file with rotation after 1MB?**"
      ],
      "metadata": {
        "id": "fCCjpfFTPZZg"
      }
    },
    {
      "cell_type": "code",
      "source": [
        "import logging\n",
        "from logging.handlers import RotatingFileHandler\n",
        "\n",
        "\n",
        "logger = logging.getLogger('my_logger')\n",
        "logger.setLevel(logging.DEBUG)\n",
        "\n",
        "\n",
        "handler = RotatingFileHandler(\n",
        "    'app.log', maxBytes=1*1024*1024, backupCount=3\n",
        ")\n",
        "\n",
        "\n",
        "formatter = logging.Formatter('%(asctime)s - %(levelname)s - %(message)s')\n",
        "handler.setFormatter(formatter)\n",
        "\n",
        "\n",
        "logger.addHandler(handler)\n",
        "\n",
        "logger.info(\"This is an info message\")\n",
        "logger.error(\"This is an error message\")\n",
        "\n"
      ],
      "metadata": {
        "colab": {
          "base_uri": "https://localhost:8080/"
        },
        "id": "vXlCbJtwPjZ1",
        "outputId": "1e8a97d2-38ea-41bb-bd41-d9349c658127"
      },
      "execution_count": 32,
      "outputs": [
        {
          "output_type": "stream",
          "name": "stderr",
          "text": [
            "INFO:my_logger:This is an info message\n",
            "ERROR:my_logger:This is an error message\n"
          ]
        }
      ]
    },
    {
      "cell_type": "markdown",
      "source": [
        "**19. Write a program that handles both IndexError and KeyError using a try-except block.**"
      ],
      "metadata": {
        "id": "SN81l9yOPzRN"
      }
    },
    {
      "cell_type": "code",
      "source": [
        "my_list = [1, 2, 3]\n",
        "my_dict = {'a': 10, 'b': 20}\n",
        "\n",
        "try:\n",
        "\n",
        "    print(my_list[5])\n",
        "\n",
        "\n",
        "    print(my_dict['c'])\n",
        "\n",
        "except IndexError:\n",
        "    print(\"Error: List index out of range.\")\n",
        "\n",
        "except KeyError:\n",
        "    print(\"Error: Key not found in dictionary.\")\n"
      ],
      "metadata": {
        "colab": {
          "base_uri": "https://localhost:8080/"
        },
        "id": "6AiQiENXP6V_",
        "outputId": "8c851542-4b1b-4851-b500-1a73b7d38640"
      },
      "execution_count": 33,
      "outputs": [
        {
          "output_type": "stream",
          "name": "stdout",
          "text": [
            "Error: List index out of range.\n"
          ]
        }
      ]
    },
    {
      "cell_type": "markdown",
      "source": [
        "**20. How would you open a file and read its contents using a context manager in Python?**"
      ],
      "metadata": {
        "id": "Cagqg4vWQCfn"
      }
    },
    {
      "cell_type": "code",
      "source": [
        "filename = 'example.txt'\n",
        "\n",
        "with open(filename, 'r') as file:\n",
        "    content = file.read()\n",
        "    print(content)\n"
      ],
      "metadata": {
        "colab": {
          "base_uri": "https://localhost:8080/"
        },
        "id": "JmqMujfNQH1_",
        "outputId": "5c49ec8c-053f-45de-e883-47b6feff5109"
      },
      "execution_count": 34,
      "outputs": [
        {
          "output_type": "stream",
          "name": "stdout",
          "text": [
            "This is the first line.\n",
            "This is the second line.\n",
            "This is the third line.\n",
            "This line will be appended to the file.\n",
            "This line will be appended to the file.\n",
            "This line will be appended to the file.\n",
            "This line will be appended to the file.\n",
            "This line will be appended to the file.\n",
            "\n"
          ]
        }
      ]
    },
    {
      "cell_type": "markdown",
      "source": [
        "**21. Write a Python program that reads a file and prints the number of occurrences of a specific word.**\n"
      ],
      "metadata": {
        "id": "hqVfZ7rt_3A7"
      }
    },
    {
      "cell_type": "code",
      "source": [
        "import string\n",
        "\n",
        "def count_word_occurrences(file_path, target_word):\n",
        "    try:\n",
        "        with open(file_path, 'r', encoding='utf-8') as file:\n",
        "            contents = file.read()\n",
        "\n",
        "            # Normalize the text: lower case and remove punctuation\n",
        "            contents = contents.lower()\n",
        "            contents = contents.translate(str.maketrans('', '', string.punctuation))\n",
        "\n",
        "            # Split text into words\n",
        "            words = contents.split()\n",
        "\n",
        "            # Count the occurrences of the target word\n",
        "            count = words.count(target_word.lower())\n",
        "\n",
        "            print(f\"The word '{target_word}' occurs {count} times in the file.\")\n",
        "    except FileNotFoundError:\n",
        "        print(f\"Error: The file '{file_path}' was not found.\")\n",
        "    except Exception as e:\n",
        "        print(f\"An error occurred: {e}\")\n",
        "\n",
        "\n",
        "file_path = 'sample.txt'\n",
        "\n",
        "target_word = 'example'\n",
        "\n",
        "count_word_occurrences(file_path, target_word)\n",
        "#just for example\n",
        "\n",
        "\n"
      ],
      "metadata": {
        "colab": {
          "base_uri": "https://localhost:8080/"
        },
        "id": "rQ7BH96NAITq",
        "outputId": "7518bc87-42a3-48db-c25e-cf81fe04c329"
      },
      "execution_count": null,
      "outputs": [
        {
          "output_type": "stream",
          "name": "stdout",
          "text": [
            "The word 'example' occurs 4 times in the file.\n"
          ]
        }
      ]
    },
    {
      "cell_type": "markdown",
      "source": [
        "**22. How can you check if a file is empty before attempting to read its contents?**\n",
        "> **Method 1: Using os.path.getsize()**\n",
        "\n",
        "\n",
        ">**Pros:** Simple and efficient.\n",
        "\n",
        ">**Cons:** Requires importing the os module.\n",
        "\n",
        "\n",
        "\n",
        "\n",
        "\n"
      ],
      "metadata": {
        "id": "M8QOvcklAqi4"
      }
    },
    {
      "cell_type": "code",
      "source": [
        "import os\n",
        "\n",
        "file_path = 'sample.txt'\n",
        "\n",
        "if os.path.getsize(file_path) == 0:\n",
        "    print(\"The file is empty.\")\n",
        "else:\n",
        "    print(\"The file is not empty.\")"
      ],
      "metadata": {
        "colab": {
          "base_uri": "https://localhost:8080/"
        },
        "id": "861AFhSTBVHx",
        "outputId": "bc57dce7-6b73-4164-fb3a-bdd40b17c4c9"
      },
      "execution_count": null,
      "outputs": [
        {
          "output_type": "stream",
          "name": "stdout",
          "text": [
            "The file is not empty.\n"
          ]
        }
      ]
    },
    {
      "cell_type": "markdown",
      "source": [
        ">**Method 2: Open the file and check content directly**\n",
        "\n",
        "\n",
        "\n",
        ">**Pros:** No need for extra modules.\n",
        "\n",
        ">**Cons:** Slightly more I/O; resets file pointer unless handled carefully."
      ],
      "metadata": {
        "id": "gA5kA7FhBWJY"
      }
    },
    {
      "cell_type": "code",
      "source": [
        "with open('sample.txt', 'r', encoding='utf-8') as file:\n",
        "    if file.read(1):  # Try to read just 1 character\n",
        "        print(\"The file is not empty.\")\n",
        "    else:\n",
        "        print(\"The file is empty.\")"
      ],
      "metadata": {
        "colab": {
          "base_uri": "https://localhost:8080/"
        },
        "id": "gr-A-ENRBWnI",
        "outputId": "6ec11f39-41d3-420b-d261-b1c05cd65c89"
      },
      "execution_count": null,
      "outputs": [
        {
          "output_type": "stream",
          "name": "stdout",
          "text": [
            "The file is not empty.\n"
          ]
        }
      ]
    },
    {
      "cell_type": "markdown",
      "source": [
        ">**Method 3: Using os.stat()**\n",
        "\n",
        "\n",
        ">**Pros**: More detailed file metadata available (if needed).\n",
        "\n",
        ">**Cons:** Similar to getsize() in behavior and dependency."
      ],
      "metadata": {
        "id": "VP7r0mIuBXUQ"
      }
    },
    {
      "cell_type": "code",
      "source": [
        "import os\n",
        "\n",
        "file_path = 'sample.txt'\n",
        "\n",
        "if os.stat(file_path).st_size == 0:\n",
        "    print(\"The file is empty.\")\n",
        "else:\n",
        "    print(\"The file is not empty.\")"
      ],
      "metadata": {
        "colab": {
          "base_uri": "https://localhost:8080/"
        },
        "id": "G0penE_hBYH4",
        "outputId": "52292d5c-87ff-4549-87e8-bb0dee198e69"
      },
      "execution_count": null,
      "outputs": [
        {
          "output_type": "stream",
          "name": "stdout",
          "text": [
            "The file is not empty.\n"
          ]
        }
      ]
    },
    {
      "cell_type": "markdown",
      "source": [
        "**23. Write a Python program that writes to a log file when an error occurs during file handling.**\n"
      ],
      "metadata": {
        "id": "PQ24MwjPB4H2"
      }
    },
    {
      "cell_type": "code",
      "source": [
        "import logging\n",
        "\n",
        "# Set up logging\n",
        "logging.basicConfig(\n",
        "    filename='error_log.txt',\n",
        "    level=logging.ERROR,\n",
        "    format='%(asctime)s - %(levelname)s - %(message)s'\n",
        ")\n",
        "\n",
        "def read_file(file_path):\n",
        "    try:\n",
        "        with open(file_path, 'r', encoding='utf-8') as file:\n",
        "            contents = file.read()\n",
        "            print(\"File contents:\")\n",
        "            print(contents)\n",
        "    except FileNotFoundError as fnf_error:\n",
        "        print(\"Error: File not found.\")\n",
        "        logging.error(f\"FileNotFoundError: {fnf_error}\")\n",
        "    except PermissionError as perm_error:\n",
        "        print(\"Error: Permission denied.\")\n",
        "        logging.error(f\"PermissionError: {perm_error}\")\n",
        "    except Exception as e:\n",
        "        print(\"An unexpected error occurred.\")\n",
        "        logging.error(f\"Unexpected error: {e}\")\n",
        "\n",
        "\n",
        "file_path = 'samp.txt'\n",
        "read_file(file_path)\n",
        "\n",
        "\n"
      ],
      "metadata": {
        "colab": {
          "base_uri": "https://localhost:8080/"
        },
        "id": "QqvFcEVyCB3n",
        "outputId": "b30583c9-a8d6-4ff7-eb55-20902f68e62a"
      },
      "execution_count": null,
      "outputs": [
        {
          "output_type": "stream",
          "name": "stderr",
          "text": [
            "ERROR:root:FileNotFoundError: [Errno 2] No such file or directory: 'samp.txt'\n"
          ]
        },
        {
          "output_type": "stream",
          "name": "stdout",
          "text": [
            "Error: File not found.\n"
          ]
        }
      ]
    }
  ]
}